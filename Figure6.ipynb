{
 "cells": [
  {
   "cell_type": "code",
   "execution_count": 1,
   "metadata": {},
   "outputs": [],
   "source": [
    "from os.path import join\n",
    "import numpy as np    \n",
    "\n",
    "from flyeye.data.experiments import Experiment\n",
    "\n",
    "from figures.dynamics import DualExpression\n",
    "from figures.comparison import PerturbationComparison\n",
    "\n",
    "%matplotlib inline\n",
    "\n",
    "data_path = '../data/published'"
   ]
  },
  {
   "cell_type": "markdown",
   "metadata": {},
   "source": [
    "# Load SevRasV12 experiment data"
   ]
  },
  {
   "cell_type": "code",
   "execution_count": 2,
   "metadata": {},
   "outputs": [],
   "source": [
    "ras_control = Experiment(join(data_path, 'ras_mutant', 'control'), normalization='ch0', recompile=True)\n",
    "ras_perturbation = Experiment(join(data_path, 'ras_mutant', 'perturbation'), normalization='ch0', recompile=True)\n",
    "\n",
    "# evaluate P/Y ratio\n",
    "ras_control.set_ratio('ch1_normalized', 'ch2_normalized')\n",
    "ras_perturbation.set_ratio('ch1_normalized', 'ch2_normalized')\n",
    "\n",
    "# manually align control condition (falls ~10h early by default)\n",
    "ras_control.apply_lag(lag=10)"
   ]
  },
  {
   "cell_type": "markdown",
   "metadata": {},
   "source": [
    "# Figure 6 A-C"
   ]
  },
  {
   "cell_type": "code",
   "execution_count": 3,
   "metadata": {},
   "outputs": [
    {
     "data": {
      "image/png": "[encoded data removed]",
      "text/plain": [
       "<Figure size 144x72 with 1 Axes>"
      ]
     },
     "metadata": {
      "needs_background": "light"
     },
     "output_type": "display_data"
    },
    {
     "data": {
      "image/png": "[encoded data removed]",
      "text/plain": [
       "<Figure size 144x72 with 1 Axes>"
      ]
     },
     "metadata": {
      "needs_background": "light"
     },
     "output_type": "display_data"
    },
    {
     "data": {
      "image/png": "[encoded data removed]",
      "text/plain": [
       "<Figure size 144x72 with 1 Axes>"
      ]
     },
     "metadata": {
      "needs_background": "light"
     },
     "output_type": "display_data"
    }
   ],
   "source": [
    "# define number of bootstrap samples (10k used for manuscript)\n",
    "interval_kw = dict(nbootstraps=10) \n",
    "\n",
    "# Fig 6A (Pnt levels)\n",
    "fig = DualExpression(ras_control, ras_perturbation)\n",
    "ax_kw = dict(xlim=(-20, 50), xticks=np.arange(-20, 55, 10), \n",
    "             ylim=(.2, 1.2), yticks=np.arange(.2, 1.3, .3))\n",
    "fig.render('ch1_normalized', interval=True, ax_kw=ax_kw, interval_kw=interval_kw)\n",
    "\n",
    "# Fig 6B (Yan levels)\n",
    "fig = DualExpression(ras_control, ras_perturbation)\n",
    "ax_kw = dict(xlim=(-20, 50), xticks=np.arange(-20, 55, 10), \n",
    "             ylim=(.2, 1.2), yticks=np.arange(.2, 1.3, .3))\n",
    "fig.render('ch2_normalized', interval=True, ax_kw=ax_kw, interval_kw=interval_kw)\n",
    "\n",
    "# Fig 6C (Ratio)\n",
    "fig = DualExpression(ras_control, ras_perturbation)\n",
    "ax_kw = dict(xlim=(-20, 50), xticks=np.arange(-20, 55, 10), \n",
    "             ylim=(-1, 0.7), yticks=np.arange(-1, .6, .5))\n",
    "fig.render('logratio', interval=True, ax_kw=ax_kw, interval_kw=interval_kw)"
   ]
  },
  {
   "cell_type": "markdown",
   "metadata": {},
   "source": [
    "# Figure 6 D,E"
   ]
  },
  {
   "cell_type": "code",
   "execution_count": 5,
   "metadata": {},
   "outputs": [
    {
     "name": "stderr",
     "output_type": "stream",
     "text": [
      "/Users/Sebi/Documents/grad_school/research/ratio/code/figures/comparison.py:769: SettingWithCopyWarning: \n",
      "A value is trying to be set on a copy of a slice from a DataFrame\n",
      "\n",
      "See the caveats in the documentation: http://pandas.pydata.org/pandas-docs/stable/indexing.html#indexing-view-versus-copy\n",
      "  selected.sort_values(by='t', inplace=True)\n"
     ]
    },
    {
     "data": {
      "image/png": "[encoded data removed]",
      "text/plain": [
       "<Figure size 72x108 with 1 Axes>"
      ]
     },
     "metadata": {
      "needs_background": "light"
     },
     "output_type": "display_data"
    },
    {
     "data": {
      "image/png": "[encoded data removed]",
      "text/plain": [
       "<Figure size 72x108 with 1 Axes>"
      ]
     },
     "metadata": {
      "needs_background": "light"
     },
     "output_type": "display_data"
    }
   ],
   "source": [
    "# Fig 6D (unidentifiable supernumerary neurons)\n",
    "fig = PerturbationComparison.from_experiments(ras_control, \n",
    "                                                ras_perturbation, \n",
    "                                                reference=['er'])\n",
    "fig.render()\n",
    "\n",
    "# Fig 6E (supernumerary R7 neurons)\n",
    "fig = PerturbationComparison.from_experiments(ras_control, \n",
    "                                                ras_perturbation, \n",
    "                                                reference=['er7'])\n",
    "fig.render()"
   ]
  }
 ],
 "metadata": {
  "kernelspec": {
   "display_name": "ratio",
   "language": "python",
   "name": "ratio"
  },
  "language_info": {
   "codemirror_mode": {
    "name": "ipython",
    "version": 3
   },
   "file_extension": ".py",
   "mimetype": "text/x-python",
   "name": "python",
   "nbconvert_exporter": "python",
   "pygments_lexer": "ipython3",
   "version": "3.6.4"
  }
 },
 "nbformat": 4,
 "nbformat_minor": 1
}
